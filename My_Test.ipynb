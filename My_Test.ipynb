{
 "cells": [
  {
   "cell_type": "code",
   "execution_count": 1,
   "metadata": {},
   "outputs": [
    {
     "name": "stdout",
     "output_type": "stream",
     "text": [
      "         CustomerID  Profession  HaveChildren  ItemCategory1  ItemCategory2  \\\n",
      "count  5.000000e+02  500.000000    476.000000     500.000000     348.000000   \n",
      "mean   1.000045e+06    6.136000      0.497899       5.024000       9.635057   \n",
      "std    2.413286e+01    5.651317      0.500522       3.487082       5.075980   \n",
      "min    1.000001e+06    0.000000      0.000000       1.000000       2.000000   \n",
      "25%    1.000024e+06    1.000000      0.000000       1.000000       5.000000   \n",
      "50%    1.000045e+06    4.000000      0.000000       5.000000       8.000000   \n",
      "75%    1.000062e+06   10.000000      1.000000       8.000000      15.000000   \n",
      "max    1.000092e+06   20.000000      1.000000      18.000000      17.000000   \n",
      "\n",
      "       ItemCategory3        Amount  \n",
      "count     143.000000    500.000000  \n",
      "mean       12.328671   9347.886000  \n",
      "std         4.316324   4979.356118  \n",
      "min         3.000000    584.000000  \n",
      "25%         9.000000   5898.500000  \n",
      "50%        14.000000   8019.000000  \n",
      "75%        16.000000  12200.500000  \n",
      "max        18.000000  23792.000000  \n"
     ]
    }
   ],
   "source": [
    "import pandas as pd\n",
    "from pandas import read_csv\n",
    "df = pd.read_csv(\"RetailCustomerSales3.csv\")\n",
    "print(df.describe())"
   ]
  },
  {
   "cell_type": "code",
   "execution_count": 5,
   "metadata": {},
   "outputs": [
    {
     "name": "stdout",
     "output_type": "stream",
     "text": [
      "     CustomerID     ItemID Sex    Age  Profession YearsInCity  HaveChildren  \\\n",
      "0       1000001  P00069042   F   0-17          10           2           0.0   \n",
      "1       1000001  P00248942   F   0-17          10           2           0.0   \n",
      "2       1000001  P00087842   F   0-17          10           2           0.0   \n",
      "3       1000001  P00085442   F   0-17          10           2           0.0   \n",
      "4       1000002  P00285442   M    55+          16          4+           0.0   \n",
      "..          ...        ...  ..    ...         ...         ...           ...   \n",
      "495     1000092  P00317942   F  18-25           4           1           0.0   \n",
      "496     1000092  P00190042   F  18-25           4           1           0.0   \n",
      "497     1000092  P00328042   F  18-25           4           1           0.0   \n",
      "498     1000092  P00370242   F  18-25           4           1           0.0   \n",
      "499     1000092  P00340642   F  18-25           4           1           0.0   \n",
      "\n",
      "     ItemCategory1  ItemCategory2  ItemCategory3  Amount  CityType_A  \\\n",
      "0                3            NaN            NaN    8370           1   \n",
      "1                1            6.0           14.0   15200           1   \n",
      "2               12            NaN            NaN    1422           1   \n",
      "3               12           14.0            NaN    1057           1   \n",
      "4                8            NaN            NaN    7969           0   \n",
      "..             ...            ...            ...     ...         ...   \n",
      "495              8           16.0            NaN    7884           0   \n",
      "496              3            4.0            5.0   13400           0   \n",
      "497              8           14.0            NaN    2233           0   \n",
      "498              5            NaN            NaN    3545           0   \n",
      "499              5            NaN            NaN    1868           0   \n",
      "\n",
      "     CityType_B  CityType_C  \n",
      "0             0           0  \n",
      "1             0           0  \n",
      "2             0           0  \n",
      "3             0           0  \n",
      "4             0           1  \n",
      "..          ...         ...  \n",
      "495           1           0  \n",
      "496           1           0  \n",
      "497           1           0  \n",
      "498           1           0  \n",
      "499           1           0  \n",
      "\n",
      "[500 rows x 14 columns]\n"
     ]
    }
   ],
   "source": [
    "# read csv\n",
    "df = pd.read_csv('RetailCustomerSales3.csv')\n",
    " \n",
    "df_new = pd.get_dummies(df, columns=[\"CityType\"], prefix=\"CityType\")\n",
    "  \n",
    "# print the dataframe\n",
    "print(df_new)"
   ]
  },
  {
   "cell_type": "code",
   "execution_count": null,
   "metadata": {},
   "outputs": [],
   "source": []
  }
 ],
 "metadata": {
  "kernelspec": {
   "display_name": "Python 3",
   "language": "python",
   "name": "python3"
  },
  "language_info": {
   "codemirror_mode": {
    "name": "ipython",
    "version": 3
   },
   "file_extension": ".py",
   "mimetype": "text/x-python",
   "name": "python",
   "nbconvert_exporter": "python",
   "pygments_lexer": "ipython3",
   "version": "3.8.2"
  }
 },
 "nbformat": 4,
 "nbformat_minor": 4
}
